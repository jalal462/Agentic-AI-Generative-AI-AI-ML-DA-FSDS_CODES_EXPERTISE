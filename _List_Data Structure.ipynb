{
 "cells": [
  {
   "cell_type": "markdown",
   "id": "326da44a-c301-457d-bf66-60ecaab3b698",
   "metadata": {},
   "source": [
    "# List"
   ]
  },
  {
   "cell_type": "raw",
   "id": "860de371-8253-4721-9388-f0808a00ff9c",
   "metadata": {},
   "source": [
    "1) List is an ordered sequence of items. \n",
    " \n",
    "2) We can have different data types under a list. E.g we can have integer, float and string items in \n",
    "a same list."
   ]
  },
  {
   "cell_type": "markdown",
   "id": "2cb27707-5100-4135-9668-5aab3c3b26cf",
   "metadata": {},
   "source": [
    "## List Creation"
   ]
  },
  {
   "cell_type": "code",
   "execution_count": 1,
   "id": "1f7243f9-1aa6-4933-8dc3-8cbb1be51471",
   "metadata": {},
   "outputs": [],
   "source": [
    "list1 = [] # Empty List "
   ]
  },
  {
   "cell_type": "code",
   "execution_count": 2,
   "id": "e920ff5f-0052-4df5-9d3c-1b3818c8f900",
   "metadata": {},
   "outputs": [
    {
     "name": "stdout",
     "output_type": "stream",
     "text": [
      "<class 'list'>\n"
     ]
    }
   ],
   "source": [
    "print(type(list1)) "
   ]
  },
  {
   "cell_type": "code",
   "execution_count": 3,
   "id": "9ada4a27-ea59-46b7-83a5-eaf038b8d213",
   "metadata": {},
   "outputs": [],
   "source": [
    "list2 = [20,30,40] #list of integer number"
   ]
  },
  {
   "cell_type": "code",
   "execution_count": 4,
   "id": "63933421-dd7e-439a-bd0f-a1130cd8e7b0",
   "metadata": {},
   "outputs": [
    {
     "name": "stdout",
     "output_type": "stream",
     "text": [
      "<class 'list'>\n"
     ]
    }
   ],
   "source": [
    "print(type(list2))"
   ]
  },
  {
   "cell_type": "code",
   "execution_count": 5,
   "id": "d2917afe-1705-405b-9992-59462a452ece",
   "metadata": {},
   "outputs": [],
   "source": [
    "list3 = [5.4,6.2,7.8] #list of float number "
   ]
  },
  {
   "cell_type": "code",
   "execution_count": 6,
   "id": "9316ecbb-e162-4eb0-acca-d01d647cb876",
   "metadata": {},
   "outputs": [
    {
     "name": "stdout",
     "output_type": "stream",
     "text": [
      "<class 'list'>\n"
     ]
    }
   ],
   "source": [
    "print(type(list3))"
   ]
  },
  {
   "cell_type": "code",
   "execution_count": 7,
   "id": "243f5017-868e-4476-84e9-307b57d90057",
   "metadata": {},
   "outputs": [],
   "source": [
    "list4 = ['apple','ball','cat'] #list of strings"
   ]
  },
  {
   "cell_type": "code",
   "execution_count": 8,
   "id": "cfc7b24f-ece2-41f1-b064-cd1091471d1c",
   "metadata": {},
   "outputs": [
    {
     "name": "stdout",
     "output_type": "stream",
     "text": [
      "<class 'list'>\n"
     ]
    }
   ],
   "source": [
    "print(type(list4))"
   ]
  },
  {
   "cell_type": "code",
   "execution_count": 10,
   "id": "7060e6d2-dbf8-40e9-8e24-2f48b2f0a2c4",
   "metadata": {},
   "outputs": [],
   "source": [
    "list5 = ['shaikh',40,[20,40],[10,30]] #nested list"
   ]
  },
  {
   "cell_type": "code",
   "execution_count": 11,
   "id": "8adfeafc-98cb-4c7d-b3a1-69310f60b415",
   "metadata": {},
   "outputs": [],
   "source": [
    "list6 = [25, 'ayan',4.6] #list of mixed data types"
   ]
  },
  {
   "cell_type": "code",
   "execution_count": 12,
   "id": "04b2c8a6-0519-424e-9636-4869100d2643",
   "metadata": {},
   "outputs": [
    {
     "data": {
      "text/plain": [
       "3"
      ]
     },
     "execution_count": 12,
     "metadata": {},
     "output_type": "execute_result"
    }
   ],
   "source": [
    "len(list6)"
   ]
  },
  {
   "cell_type": "code",
   "execution_count": 13,
   "id": "1a954606-70f7-4db6-ad08-fc5750834d9e",
   "metadata": {},
   "outputs": [
    {
     "data": {
      "text/plain": [
       "'apple'"
      ]
     },
     "execution_count": 13,
     "metadata": {},
     "output_type": "execute_result"
    }
   ],
   "source": [
    "list4[0] #retreive first elements of the list"
   ]
  },
  {
   "cell_type": "code",
   "execution_count": 14,
   "id": "0d46d779-5bd8-4421-835a-a2b318aa5ca1",
   "metadata": {},
   "outputs": [
    {
     "data": {
      "text/plain": [
       "'h'"
      ]
     },
     "execution_count": 14,
     "metadata": {},
     "output_type": "execute_result"
    }
   ],
   "source": [
    "list5[0][1] #nested indexing access the second character of the first list element"
   ]
  },
  {
   "cell_type": "code",
   "execution_count": 15,
   "id": "54a1177d-1bb0-4b69-b851-8468ea30a748",
   "metadata": {},
   "outputs": [
    {
     "data": {
      "text/plain": [
       "7.8"
      ]
     },
     "execution_count": 15,
     "metadata": {},
     "output_type": "execute_result"
    }
   ],
   "source": [
    "list3[-1] #last element of the list"
   ]
  },
  {
   "cell_type": "code",
   "execution_count": null,
   "id": "fc1be046-316c-47d4-af03-30e59435567d",
   "metadata": {},
   "outputs": [],
   "source": []
  },
  {
   "cell_type": "markdown",
   "id": "3dd14dca-572c-4d0a-83e3-2ec991c0a8f4",
   "metadata": {},
   "source": [
    "### list slicing"
   ]
  },
  {
   "cell_type": "code",
   "execution_count": 16,
   "id": "23d39108-04b9-444f-877f-f838834b7e31",
   "metadata": {},
   "outputs": [],
   "source": [
    "mylist = ['one','two','three','four','five','six','seven','eight']"
   ]
  },
  {
   "cell_type": "code",
   "execution_count": 18,
   "id": "57ba9d0a-9fb9-446b-b0bd-1758fb33450d",
   "metadata": {},
   "outputs": [
    {
     "data": {
      "text/plain": [
       "['one', 'two', 'three', 'four', 'five']"
      ]
     },
     "execution_count": 18,
     "metadata": {},
     "output_type": "execute_result"
    }
   ],
   "source": [
    "mylist[0:5] #return all the items from 0th to fifth index location excluding the item "
   ]
  },
  {
   "cell_type": "code",
   "execution_count": 19,
   "id": "03cec353-c4c9-4ffc-86bf-239b4308d6ae",
   "metadata": {},
   "outputs": [
    {
     "data": {
      "text/plain": [
       "['one', 'two', 'three', 'four']"
      ]
     },
     "execution_count": 19,
     "metadata": {},
     "output_type": "execute_result"
    }
   ],
   "source": [
    "mylist[:4] #return first four items"
   ]
  },
  {
   "cell_type": "code",
   "execution_count": 20,
   "id": "d5b9ad3f-9475-4fc9-9145-aecfd9800ec9",
   "metadata": {},
   "outputs": [
    {
     "data": {
      "text/plain": [
       "['seven', 'eight']"
      ]
     },
     "execution_count": 20,
     "metadata": {},
     "output_type": "execute_result"
    }
   ],
   "source": [
    "mylist[-2:] #return last two items"
   ]
  },
  {
   "cell_type": "code",
   "execution_count": 21,
   "id": "e7db7e95-1087-4253-bea1-963b6e0d3e36",
   "metadata": {},
   "outputs": [
    {
     "data": {
      "text/plain": [
       "['eight']"
      ]
     },
     "execution_count": 21,
     "metadata": {},
     "output_type": "execute_result"
    }
   ],
   "source": [
    "mylist[-1:] #return last item of the list"
   ]
  },
  {
   "cell_type": "code",
   "execution_count": 22,
   "id": "9327f5d9-5f4a-4512-b856-974ec2953e29",
   "metadata": {},
   "outputs": [
    {
     "data": {
      "text/plain": [
       "['one', 'two', 'three', 'four', 'five', 'six', 'seven', 'eight']"
      ]
     },
     "execution_count": 22,
     "metadata": {},
     "output_type": "execute_result"
    }
   ],
   "source": [
    "mylist[:] #return whole list"
   ]
  },
  {
   "cell_type": "code",
   "execution_count": null,
   "id": "5bb52cfd-ac76-4739-b58e-86b08bb16c05",
   "metadata": {},
   "outputs": [],
   "source": []
  },
  {
   "cell_type": "markdown",
   "id": "4f0f6068-c655-4f80-9b22-58b742f3d6bc",
   "metadata": {},
   "source": [
    "### Add Remove and Change items"
   ]
  },
  {
   "cell_type": "code",
   "execution_count": 23,
   "id": "56671fcd-6d27-434c-9c61-782c0d1efe98",
   "metadata": {},
   "outputs": [
    {
     "data": {
      "text/plain": [
       "['one', 'two', 'three', 'four', 'five', 'six', 'seven', 'eight']"
      ]
     },
     "execution_count": 23,
     "metadata": {},
     "output_type": "execute_result"
    }
   ],
   "source": [
    "mylist"
   ]
  },
  {
   "cell_type": "code",
   "execution_count": 24,
   "id": "4db6dc6e-1f6e-4ea0-b680-c386e9b33fbe",
   "metadata": {},
   "outputs": [
    {
     "data": {
      "text/plain": [
       "['one', 'two', 'three', 'four', 'five', 'six', 'seven', 'eight', 'nine']"
      ]
     },
     "execution_count": 24,
     "metadata": {},
     "output_type": "execute_result"
    }
   ],
   "source": [
    "mylist.append('nine')\n",
    "mylist"
   ]
  },
  {
   "cell_type": "code",
   "execution_count": 25,
   "id": "66582c85-f7c1-4491-8c19-940820b73ac0",
   "metadata": {},
   "outputs": [
    {
     "data": {
      "text/plain": [
       "['one', 'two', 'three', 'four', 'five', 'six', 'seven', 'eight', 'nine', 'ten']"
      ]
     },
     "execution_count": 25,
     "metadata": {},
     "output_type": "execute_result"
    }
   ],
   "source": [
    "mylist.insert(9,'ten') #add item at index location 9\n",
    "mylist"
   ]
  },
  {
   "cell_type": "code",
   "execution_count": 29,
   "id": "c242a0fd-ea5c-4a61-a6b9-54bc6527c39f",
   "metadata": {},
   "outputs": [
    {
     "data": {
      "text/plain": [
       "['one', 'two', 'three', 'four', 'five', 'six', 'seven', 'eight', 'nine', 'ten']"
      ]
     },
     "execution_count": 29,
     "metadata": {},
     "output_type": "execute_result"
    }
   ],
   "source": [
    "mylist = ['one', 'two', 'three', 'four', 'five', 'six', 'seven', 'eight', 'nine', 'ten']\n",
    "mylist"
   ]
  },
  {
   "cell_type": "code",
   "execution_count": 31,
   "id": "622f9de9-4fbd-4a94-9616-cbea2a19316b",
   "metadata": {},
   "outputs": [
    {
     "data": {
      "text/plain": [
       "['zero',\n",
       " 'zero',\n",
       " 'one',\n",
       " 'two',\n",
       " 'three',\n",
       " 'four',\n",
       " 'five',\n",
       " 'six',\n",
       " 'seven',\n",
       " 'eight',\n",
       " 'nine',\n",
       " 'ten']"
      ]
     },
     "execution_count": 31,
     "metadata": {},
     "output_type": "execute_result"
    }
   ],
   "source": [
    "mylist.insert(0,'zero') #add item at index location 1\n",
    "mylist"
   ]
  },
  {
   "cell_type": "code",
   "execution_count": 32,
   "id": "f26eaa03-8840-4982-9b94-b54868a8b00c",
   "metadata": {},
   "outputs": [
    {
     "data": {
      "text/plain": [
       "['zero',\n",
       " 'one',\n",
       " 'two',\n",
       " 'three',\n",
       " 'four',\n",
       " 'five',\n",
       " 'six',\n",
       " 'seven',\n",
       " 'eight',\n",
       " 'nine',\n",
       " 'ten']"
      ]
     },
     "execution_count": 32,
     "metadata": {},
     "output_type": "execute_result"
    }
   ],
   "source": [
    "mylist.pop(0) #remove first item of the list\n",
    "mylist"
   ]
  },
  {
   "cell_type": "code",
   "execution_count": 33,
   "id": "3980a247-18d0-4d20-82c6-76bf6704962a",
   "metadata": {},
   "outputs": [
    {
     "data": {
      "text/plain": [
       "['zero',\n",
       " 'one',\n",
       " 'two',\n",
       " 'three',\n",
       " 'four',\n",
       " 'five',\n",
       " 'six',\n",
       " 'seven',\n",
       " 'eight',\n",
       " 'nine']"
      ]
     },
     "execution_count": 33,
     "metadata": {},
     "output_type": "execute_result"
    }
   ],
   "source": [
    "mylist.pop() #remove last element of the list\n",
    "mylist"
   ]
  },
  {
   "cell_type": "code",
   "execution_count": 36,
   "id": "19c0549a-63c1-4631-97a6-e1e56791c8b6",
   "metadata": {},
   "outputs": [
    {
     "data": {
      "text/plain": [
       "['zero', 'one', 'two', 'three', 'four', 'five', 'six', 'seven', 'eight']"
      ]
     },
     "execution_count": 36,
     "metadata": {},
     "output_type": "execute_result"
    }
   ],
   "source": [
    "del mylist[9] #remove element at 10 index location\n",
    "mylist"
   ]
  },
  {
   "cell_type": "code",
   "execution_count": 37,
   "id": "55685b70-b8f2-407a-9510-795bc3b93ee8",
   "metadata": {},
   "outputs": [
    {
     "data": {
      "text/plain": [
       "[0, 1, 2, 'three', 'four', 'five', 'six', 'seven', 'eight']"
      ]
     },
     "execution_count": 37,
     "metadata": {},
     "output_type": "execute_result"
    }
   ],
   "source": [
    "#change value of the string\n",
    "mylist[0] = 0\n",
    "mylist[1] = 1\n",
    "mylist[2] = 2\n",
    "mylist"
   ]
  },
  {
   "cell_type": "code",
   "execution_count": 38,
   "id": "d8af5925-22bc-4b76-8b77-b2cb534f2af6",
   "metadata": {},
   "outputs": [
    {
     "data": {
      "text/plain": [
       "[]"
      ]
     },
     "execution_count": 38,
     "metadata": {},
     "output_type": "execute_result"
    }
   ],
   "source": [
    "mylist.clear() #empty list delete all item of the list\n",
    "mylist"
   ]
  },
  {
   "cell_type": "code",
   "execution_count": 39,
   "id": "01c93f85-d220-46c8-8b48-2ae8ec5f565e",
   "metadata": {},
   "outputs": [
    {
     "ename": "NameError",
     "evalue": "name 'mylist' is not defined",
     "output_type": "error",
     "traceback": [
      "\u001b[1;31m---------------------------------------------------------------------------\u001b[0m",
      "\u001b[1;31mNameError\u001b[0m                                 Traceback (most recent call last)",
      "Cell \u001b[1;32mIn[39], line 2\u001b[0m\n\u001b[0;32m      1\u001b[0m \u001b[38;5;28;01mdel\u001b[39;00m mylist \u001b[38;5;66;03m#delete the whole list\u001b[39;00m\n\u001b[1;32m----> 2\u001b[0m \u001b[43mmylist\u001b[49m\n",
      "\u001b[1;31mNameError\u001b[0m: name 'mylist' is not defined"
     ]
    }
   ],
   "source": [
    "del mylist #delete the whole list\n",
    "mylist"
   ]
  },
  {
   "cell_type": "code",
   "execution_count": null,
   "id": "9da39156-3de7-4cc5-b7fd-0fad23047b43",
   "metadata": {},
   "outputs": [],
   "source": []
  },
  {
   "cell_type": "markdown",
   "id": "60b336cf-c888-4345-ab57-d6fdb4b98e94",
   "metadata": {},
   "source": [
    "### copy list"
   ]
  },
  {
   "cell_type": "code",
   "execution_count": 40,
   "id": "be965ece-4003-4e36-b798-64de70f4f614",
   "metadata": {},
   "outputs": [],
   "source": [
    "mylist = ['one','two','three','four','five','six','seven','eight','nine','ten']"
   ]
  },
  {
   "cell_type": "code",
   "execution_count": 41,
   "id": "cb2b951f-79c7-44ee-a3d8-6a059e614f06",
   "metadata": {},
   "outputs": [],
   "source": [
    "mylist1 = mylist # create a new refrence mylist1"
   ]
  },
  {
   "cell_type": "code",
   "execution_count": 42,
   "id": "9e7d3804-d0e8-49c4-9296-14a15f3d7e1c",
   "metadata": {},
   "outputs": [
    {
     "data": {
      "text/plain": [
       "(3174586336064, 3174586336064)"
      ]
     },
     "execution_count": 42,
     "metadata": {},
     "output_type": "execute_result"
    }
   ],
   "source": [
    "id(mylist), id(mylist1) #the address of both mylist and mylist1 will be same"
   ]
  },
  {
   "cell_type": "code",
   "execution_count": 43,
   "id": "c42193c8-b581-4d03-b124-925a7dd70a7b",
   "metadata": {},
   "outputs": [],
   "source": [
    "mylist2 = mylist.copy() #create a copy of the list"
   ]
  },
  {
   "cell_type": "code",
   "execution_count": 44,
   "id": "5552bf08-0db4-48ef-a5ea-bedc959aeee2",
   "metadata": {},
   "outputs": [
    {
     "data": {
      "text/plain": [
       "3174586210048"
      ]
     },
     "execution_count": 44,
     "metadata": {},
     "output_type": "execute_result"
    }
   ],
   "source": [
    "id(mylist2) #the address of mylist2 will be diffirent from mylist"
   ]
  },
  {
   "cell_type": "code",
   "execution_count": 45,
   "id": "137af7f3-8622-4e87-9421-efdf141fb631",
   "metadata": {},
   "outputs": [],
   "source": [
    "mylist[0] = 1"
   ]
  },
  {
   "cell_type": "code",
   "execution_count": 46,
   "id": "d4947399-da84-4519-b935-ef22f5760626",
   "metadata": {},
   "outputs": [
    {
     "data": {
      "text/plain": [
       "[1, 'two', 'three', 'four', 'five', 'six', 'seven', 'eight', 'nine', 'ten']"
      ]
     },
     "execution_count": 46,
     "metadata": {},
     "output_type": "execute_result"
    }
   ],
   "source": [
    "mylist"
   ]
  },
  {
   "cell_type": "code",
   "execution_count": 47,
   "id": "9bd5fe89-0b8f-4b97-bf92-4886240699ba",
   "metadata": {},
   "outputs": [
    {
     "data": {
      "text/plain": [
       "[1, 'two', 'three', 'four', 'five', 'six', 'seven', 'eight', 'nine', 'ten']"
      ]
     },
     "execution_count": 47,
     "metadata": {},
     "output_type": "execute_result"
    }
   ],
   "source": [
    "mylist1 #mylist1 will also be impacted as it is pointing to the same list"
   ]
  },
  {
   "cell_type": "code",
   "execution_count": 48,
   "id": "4926205f-c496-46af-a22c-175783642cf0",
   "metadata": {},
   "outputs": [
    {
     "data": {
      "text/plain": [
       "['one', 'two', 'three', 'four', 'five', 'six', 'seven', 'eight', 'nine', 'ten']"
      ]
     },
     "execution_count": 48,
     "metadata": {},
     "output_type": "execute_result"
    }
   ],
   "source": [
    "mylist2 #copy of list won't be impacted due to changes made on the original list"
   ]
  },
  {
   "cell_type": "code",
   "execution_count": null,
   "id": "debe7218-82e3-4aec-b4a1-f191ea06ffe1",
   "metadata": {},
   "outputs": [],
   "source": []
  },
  {
   "cell_type": "markdown",
   "id": "33daf775-8385-42dd-a3e7-d289edbc6ce2",
   "metadata": {},
   "source": [
    "### join list"
   ]
  },
  {
   "cell_type": "code",
   "execution_count": 1,
   "id": "85c02057-7a6a-41d7-9010-64458faf081c",
   "metadata": {},
   "outputs": [],
   "source": [
    "list1 = ['one', 'two', 'three', 'four'] \n",
    "list2 = ['five', 'six', 'seven', 'eight']"
   ]
  },
  {
   "cell_type": "code",
   "execution_count": 2,
   "id": "04c6692c-bfe6-44cc-aedc-fdd6d9a20eb5",
   "metadata": {},
   "outputs": [
    {
     "data": {
      "text/plain": [
       "['one', 'two', 'three', 'four', 'five', 'six', 'seven', 'eight']"
      ]
     },
     "execution_count": 2,
     "metadata": {},
     "output_type": "execute_result"
    }
   ],
   "source": [
    "list3 = list1 + list2 # Join two lists by '+' operator \n",
    "list3"
   ]
  },
  {
   "cell_type": "code",
   "execution_count": 3,
   "id": "2b3f6b70-c4ae-43a4-9c84-124862648f06",
   "metadata": {},
   "outputs": [
    {
     "data": {
      "text/plain": [
       "['one', 'two', 'three', 'four', 'five', 'six', 'seven', 'eight']"
      ]
     },
     "execution_count": 3,
     "metadata": {},
     "output_type": "execute_result"
    }
   ],
   "source": [
    "list1.extend(list2) #Append list2 with list1 \n",
    "list1 "
   ]
  },
  {
   "cell_type": "code",
   "execution_count": null,
   "id": "ac4b0b73-d6c2-400d-80ca-a3c8517dc731",
   "metadata": {},
   "outputs": [],
   "source": []
  },
  {
   "cell_type": "markdown",
   "id": "e2ad127d-804b-4c54-97d7-6b3f36df3e39",
   "metadata": {},
   "source": [
    "### list membership"
   ]
  },
  {
   "cell_type": "code",
   "execution_count": 4,
   "id": "0166d6a1-2d12-4c93-933a-8f0e6a22f972",
   "metadata": {},
   "outputs": [
    {
     "data": {
      "text/plain": [
       "['one', 'two', 'three', 'four', 'five', 'six', 'seven', 'eight']"
      ]
     },
     "execution_count": 4,
     "metadata": {},
     "output_type": "execute_result"
    }
   ],
   "source": [
    "list1"
   ]
  },
  {
   "cell_type": "code",
   "execution_count": 5,
   "id": "5a87b26a-e5ed-45d7-87ab-cc88af75fe89",
   "metadata": {},
   "outputs": [
    {
     "data": {
      "text/plain": [
       "True"
      ]
     },
     "execution_count": 5,
     "metadata": {},
     "output_type": "execute_result"
    }
   ],
   "source": [
    "'one' in list1 #checks if 'one' exist in the list"
   ]
  },
  {
   "cell_type": "code",
   "execution_count": 6,
   "id": "7c015628-61e1-400f-ba4f-6b082a47df93",
   "metadata": {},
   "outputs": [
    {
     "data": {
      "text/plain": [
       "False"
      ]
     },
     "execution_count": 6,
     "metadata": {},
     "output_type": "execute_result"
    }
   ],
   "source": [
    "'nine' in list1 #checks if 'one' exist in the list"
   ]
  },
  {
   "cell_type": "code",
   "execution_count": 9,
   "id": "894bec8b-f7ab-4585-9da6-20e713aaa6ac",
   "metadata": {},
   "outputs": [
    {
     "name": "stdout",
     "output_type": "stream",
     "text": [
      "four is present in the list\n"
     ]
    }
   ],
   "source": [
    "if 'four' in list1: #check if four in the list1\n",
    "    print('four is present in the list')\n",
    "else:\n",
    "    print('four is not present in the list')"
   ]
  },
  {
   "cell_type": "code",
   "execution_count": 10,
   "id": "16a3e28c-ad6c-4377-9ad7-8bb3c9341779",
   "metadata": {},
   "outputs": [
    {
     "name": "stdout",
     "output_type": "stream",
     "text": [
      "ten is not present in the list\n"
     ]
    }
   ],
   "source": [
    "if 'ten' in list1: #check if ten in the list1\n",
    "    print('ten is present in the list')\n",
    "else:\n",
    "    print('ten is not present in the list')"
   ]
  },
  {
   "cell_type": "code",
   "execution_count": null,
   "id": "60d3de4d-ae5c-4a74-b9d4-0894d17a0134",
   "metadata": {},
   "outputs": [],
   "source": []
  },
  {
   "cell_type": "markdown",
   "id": "f556eabe-f112-4c70-9579-2aab9c8bd967",
   "metadata": {},
   "source": [
    "### reverse and sort"
   ]
  },
  {
   "cell_type": "code",
   "execution_count": 4,
   "id": "7232875a-22f8-4b6b-a02c-6476dbc28123",
   "metadata": {},
   "outputs": [
    {
     "data": {
      "text/plain": [
       "['one', 'two', 'three', 'four', 'five', 'six', 'seven', 'eight']"
      ]
     },
     "execution_count": 4,
     "metadata": {},
     "output_type": "execute_result"
    }
   ],
   "source": [
    "list1 = ['one', 'two', 'three', 'four', 'five', 'six', 'seven', 'eight']\n",
    "list1"
   ]
  },
  {
   "cell_type": "code",
   "execution_count": 7,
   "id": "ef9d78b4-ba0e-43cb-8830-6ddb5c11bec5",
   "metadata": {},
   "outputs": [
    {
     "data": {
      "text/plain": [
       "['eight', 'seven', 'six', 'five', 'four', 'three', 'two', 'one']"
      ]
     },
     "execution_count": 7,
     "metadata": {},
     "output_type": "execute_result"
    }
   ],
   "source": [
    "list1.reverse() #reverse the list\n",
    "list1"
   ]
  },
  {
   "cell_type": "code",
   "execution_count": 8,
   "id": "460e9e35-4882-41f6-bcee-2353353ea927",
   "metadata": {},
   "outputs": [
    {
     "data": {
      "text/plain": [
       "['one', 'two', 'three', 'four', 'five', 'six', 'seven', 'eight']"
      ]
     },
     "execution_count": 8,
     "metadata": {},
     "output_type": "execute_result"
    }
   ],
   "source": [
    "list1 = list1[::-1] #reverse the list\n",
    "list1"
   ]
  },
  {
   "cell_type": "code",
   "execution_count": 9,
   "id": "14171a71-c391-422c-b57e-986268bc668f",
   "metadata": {},
   "outputs": [
    {
     "data": {
      "text/plain": [
       "[16, 20, 25, 30, 52, 64, 78]"
      ]
     },
     "execution_count": 9,
     "metadata": {},
     "output_type": "execute_result"
    }
   ],
   "source": [
    "mylist4 =[52,64,20,16,30,78,25]\n",
    "mylist4.sort() #sort list in ascending order\n",
    "mylist4"
   ]
  },
  {
   "cell_type": "code",
   "execution_count": 11,
   "id": "396c9921-f594-4afd-bcf1-6a30667a498e",
   "metadata": {},
   "outputs": [
    {
     "data": {
      "text/plain": [
       "[78, 64, 52, 30, 25, 20, 16]"
      ]
     },
     "execution_count": 11,
     "metadata": {},
     "output_type": "execute_result"
    }
   ],
   "source": [
    "mylist4.sort(reverse= True) #sort list in descending order\n",
    "mylist4\n"
   ]
  },
  {
   "cell_type": "code",
   "execution_count": 17,
   "id": "9c02f5ed-d166-4808-8300-c92373b86c72",
   "metadata": {},
   "outputs": [
    {
     "data": {
      "text/plain": [
       "[11, 21, 33, 65, 88, 98]"
      ]
     },
     "execution_count": 17,
     "metadata": {},
     "output_type": "execute_result"
    }
   ],
   "source": [
    "mylist5 = [88,65,33,21,11,98] \n",
    "sorted(mylist5)"
   ]
  },
  {
   "cell_type": "code",
   "execution_count": 18,
   "id": "7eb5aa8f-13df-49e6-945c-1a5088c3f289",
   "metadata": {},
   "outputs": [
    {
     "data": {
      "text/plain": [
       "[88, 65, 33, 21, 11, 98]"
      ]
     },
     "execution_count": 18,
     "metadata": {},
     "output_type": "execute_result"
    }
   ],
   "source": [
    "mylist5"
   ]
  },
  {
   "cell_type": "markdown",
   "id": "8b14f9f6-700a-4cb1-93b5-897014b021aa",
   "metadata": {},
   "source": [
    "### loop through a list"
   ]
  },
  {
   "cell_type": "code",
   "execution_count": 19,
   "id": "37259a32-8f5a-4e40-90bd-29dff50b1a86",
   "metadata": {},
   "outputs": [
    {
     "data": {
      "text/plain": [
       "['one', 'two', 'three', 'four', 'five', 'six', 'seven', 'eight']"
      ]
     },
     "execution_count": 19,
     "metadata": {},
     "output_type": "execute_result"
    }
   ],
   "source": [
    "list1"
   ]
  },
  {
   "cell_type": "code",
   "execution_count": 20,
   "id": "15c2baa6-cd13-47ad-801b-e94c27ba329d",
   "metadata": {},
   "outputs": [
    {
     "name": "stdout",
     "output_type": "stream",
     "text": [
      "one\n",
      "two\n",
      "three\n",
      "four\n",
      "five\n",
      "six\n",
      "seven\n",
      "eight\n"
     ]
    }
   ],
   "source": [
    "for i in list1:\n",
    "    print(i)"
   ]
  },
  {
   "cell_type": "code",
   "execution_count": 21,
   "id": "bae34cf5-cace-4272-ac7e-3ceb361a9141",
   "metadata": {},
   "outputs": [
    {
     "name": "stdout",
     "output_type": "stream",
     "text": [
      "(0, 'one')\n",
      "(1, 'two')\n",
      "(2, 'three')\n",
      "(3, 'four')\n",
      "(4, 'five')\n",
      "(5, 'six')\n",
      "(6, 'seven')\n",
      "(7, 'eight')\n"
     ]
    }
   ],
   "source": [
    "for i in enumerate(list1):\n",
    "    print(i)"
   ]
  },
  {
   "cell_type": "markdown",
   "id": "e48260fb-2d86-4742-b17f-adc353272b8e",
   "metadata": {},
   "source": [
    "### count"
   ]
  },
  {
   "cell_type": "code",
   "execution_count": 22,
   "id": "068f0a30-0b58-48c5-b4f6-104519f44e65",
   "metadata": {},
   "outputs": [],
   "source": [
    "list8= ['one','two','one','two','four','two','three','one','three']"
   ]
  },
  {
   "cell_type": "code",
   "execution_count": 23,
   "id": "eedfa896-f633-4c05-ab6f-996b1a70f75f",
   "metadata": {},
   "outputs": [
    {
     "data": {
      "text/plain": [
       "3"
      ]
     },
     "execution_count": 23,
     "metadata": {},
     "output_type": "execute_result"
    }
   ],
   "source": [
    "list8.count('two') #number of times item two occured in the list"
   ]
  },
  {
   "cell_type": "code",
   "execution_count": 24,
   "id": "05f73dc3-dff6-4877-bce8-4f21f45088bc",
   "metadata": {},
   "outputs": [
    {
     "data": {
      "text/plain": [
       "3"
      ]
     },
     "execution_count": 24,
     "metadata": {},
     "output_type": "execute_result"
    }
   ],
   "source": [
    "list8.count('one') #number of times item one occured in the list"
   ]
  },
  {
   "cell_type": "code",
   "execution_count": 25,
   "id": "a209fa96-0cae-4a0d-a659-5bef6d05d68c",
   "metadata": {},
   "outputs": [
    {
     "data": {
      "text/plain": [
       "2"
      ]
     },
     "execution_count": 25,
     "metadata": {},
     "output_type": "execute_result"
    }
   ],
   "source": [
    "list8.count('three') #number of times item three occured in the list "
   ]
  },
  {
   "cell_type": "code",
   "execution_count": null,
   "id": "e442558e-47c1-4adf-83bf-1c33d448f0e5",
   "metadata": {},
   "outputs": [],
   "source": []
  },
  {
   "cell_type": "markdown",
   "id": "f26fe93e-3fd6-47c3-b231-c69bf7c961fe",
   "metadata": {},
   "source": [
    "### All/Any"
   ]
  },
  {
   "cell_type": "raw",
   "id": "fc49e877-ed86-4fa6-9184-3fb9874b47c4",
   "metadata": {},
   "source": [
    "the all() metheod returns:\n",
    "   True if all element in the list are true\n",
    "   False if any element in the list are false\n",
    "\n",
    "the Any() function returns true if any element in the list is true"
   ]
  },
  {
   "cell_type": "code",
   "execution_count": 26,
   "id": "65c234ed-a8b1-434b-9dfb-e3289a6c207f",
   "metadata": {},
   "outputs": [
    {
     "data": {
      "text/plain": [
       "False"
      ]
     },
     "execution_count": 26,
     "metadata": {},
     "output_type": "execute_result"
    }
   ],
   "source": [
    "L1 = [1,2,3,5,0]\n",
    "all(L1) #will return False as one value is false value(0)"
   ]
  },
  {
   "cell_type": "code",
   "execution_count": 27,
   "id": "cbeaa360-1ff3-4f45-bf65-68a48ee91f3d",
   "metadata": {},
   "outputs": [
    {
     "data": {
      "text/plain": [
       "True"
      ]
     },
     "execution_count": 27,
     "metadata": {},
     "output_type": "execute_result"
    }
   ],
   "source": [
    "any(L1) #will return true as we have items in the list with true value"
   ]
  },
  {
   "cell_type": "code",
   "execution_count": 2,
   "id": "e786a0c3-007b-4097-a527-af762bfece05",
   "metadata": {},
   "outputs": [
    {
     "data": {
      "text/plain": [
       "False"
      ]
     },
     "execution_count": 2,
     "metadata": {},
     "output_type": "execute_result"
    }
   ],
   "source": [
    "L2 = [1,2,3,4,True,False]\n",
    "all(L2) #will return False as one value is false"
   ]
  },
  {
   "cell_type": "code",
   "execution_count": 3,
   "id": "7fbf7e04-0c49-4544-b282-ce0a4c5e5a63",
   "metadata": {},
   "outputs": [
    {
     "data": {
      "text/plain": [
       "True"
      ]
     },
     "execution_count": 3,
     "metadata": {},
     "output_type": "execute_result"
    }
   ],
   "source": [
    "any(L2) #will return True as we have items in the list have true value"
   ]
  },
  {
   "cell_type": "code",
   "execution_count": 5,
   "id": "07148b87-b790-417d-99cd-7580e9c1626d",
   "metadata": {},
   "outputs": [
    {
     "data": {
      "text/plain": [
       "True"
      ]
     },
     "execution_count": 5,
     "metadata": {},
     "output_type": "execute_result"
    }
   ],
   "source": [
    "L3 = [1,2,3,True]\n",
    "all(L3) #will return true as we have all item in the list are true\n"
   ]
  },
  {
   "cell_type": "code",
   "execution_count": null,
   "id": "ed434443-79f0-4e51-9d56-1980c9ba78e2",
   "metadata": {},
   "outputs": [],
   "source": []
  }
 ],
 "metadata": {
  "kernelspec": {
   "display_name": "Python 3 (ipykernel)",
   "language": "python",
   "name": "python3"
  },
  "language_info": {
   "codemirror_mode": {
    "name": "ipython",
    "version": 3
   },
   "file_extension": ".py",
   "mimetype": "text/x-python",
   "name": "python",
   "nbconvert_exporter": "python",
   "pygments_lexer": "ipython3",
   "version": "3.13.5"
  }
 },
 "nbformat": 4,
 "nbformat_minor": 5
}
