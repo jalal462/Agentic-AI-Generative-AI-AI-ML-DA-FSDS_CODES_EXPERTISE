{
 "cells": [
  {
   "cell_type": "code",
   "execution_count": 1,
   "id": "75837000-c16c-439f-b0ee-60a7423c1660",
   "metadata": {},
   "outputs": [
    {
     "data": {
      "text/plain": [
       "8"
      ]
     },
     "execution_count": 1,
     "metadata": {},
     "output_type": "execute_result"
    }
   ],
   "source": [
    "a=20\n",
    "b=8\n",
    "a\n",
    "b"
   ]
  },
  {
   "cell_type": "code",
   "execution_count": 2,
   "id": "cca455c1-cb19-41e8-aa8c-1b4f329c5eaa",
   "metadata": {},
   "outputs": [
    {
     "name": "stdout",
     "output_type": "stream",
     "text": [
      "20\n",
      "8\n"
     ]
    }
   ],
   "source": [
    "a=20 \n",
    "b=8\n",
    "print(a)\n",
    "print(b)"
   ]
  },
  {
   "cell_type": "code",
   "execution_count": 3,
   "id": "852fab8f-7912-465f-bf58-4db8aaaee5db",
   "metadata": {},
   "outputs": [
    {
     "name": "stdout",
     "output_type": "stream",
     "text": [
      "20\n",
      "20 8\n",
      "python\n",
      "20 8 python\n"
     ]
    }
   ],
   "source": [
    "print(20)\n",
    "print(20, 8)\n",
    "print(\"python\")\n",
    "print(20, 8, 'python')"
   ]
  },
  {
   "cell_type": "code",
   "execution_count": 4,
   "id": "4c70ffd4-cf5c-4fd9-a75d-1ee97e1d42e1",
   "metadata": {},
   "outputs": [
    {
     "name": "stdout",
     "output_type": "stream",
     "text": [
      "13\n"
     ]
    }
   ],
   "source": [
    "num1= 5\n",
    "num2= 8\n",
    "add= num1+num2\n",
    "print(add)"
   ]
  },
  {
   "cell_type": "markdown",
   "id": "a66fe42c-1078-4eb5-b474-5a39e9489708",
   "metadata": {},
   "source": [
    "## print result with string"
   ]
  },
  {
   "cell_type": "code",
   "execution_count": 7,
   "id": "4a93241d-46d2-479c-a938-d6810c308ff1",
   "metadata": {},
   "outputs": [
    {
     "name": "stdout",
     "output_type": "stream",
     "text": [
      "the sum of 12 and 16 is 28\n"
     ]
    }
   ],
   "source": [
    "num1=12\n",
    "num2=16\n",
    "add= num1+num2\n",
    "print('the sum of',num1,'and',num2,'is',add)"
   ]
  },
  {
   "cell_type": "code",
   "execution_count": 8,
   "id": "5e4262c6-8a8f-420b-824c-58df5f67625a",
   "metadata": {},
   "outputs": [
    {
     "name": "stdout",
     "output_type": "stream",
     "text": [
      "hi my name is jalal i am  23 years old from udgir\n"
     ]
    }
   ],
   "source": [
    "name= \"jalal\"\n",
    "age= 23\n",
    "city= \"udgir\"\n",
    "print(\"hi my name is\", name, \"i am \", age, \"years old from\",city)"
   ]
  },
  {
   "cell_type": "markdown",
   "id": "e22e22d0-6dec-4749-8ebb-c215d39487c7",
   "metadata": {},
   "source": [
    "### print format method"
   ]
  },
  {
   "cell_type": "code",
   "execution_count": 10,
   "id": "03b8da3b-f2ca-46f6-8372-a83c93b2797d",
   "metadata": {},
   "outputs": [
    {
     "name": "stdout",
     "output_type": "stream",
     "text": [
      "the addition of2 6 is 8\n"
     ]
    }
   ],
   "source": [
    "num1= 2\n",
    "num2=6\n",
    "add= num1+num2\n",
    "print('the addition of{} {} is {}'.format(num1,num2,add))"
   ]
  },
  {
   "cell_type": "code",
   "execution_count": 11,
   "id": "ccc18637-4cab-47be-a735-bfd5e11b5f0b",
   "metadata": {},
   "outputs": [
    {
     "name": "stdout",
     "output_type": "stream",
     "text": [
      "hi my name is jalal i am 23 years old from udgir\n"
     ]
    }
   ],
   "source": [
    "name= \"jalal\"\n",
    "age= 23\n",
    "city= \"udgir\"\n",
    "print('hi my name is {} i am {} years old from {}'.format(name,age,city))"
   ]
  },
  {
   "cell_type": "code",
   "execution_count": null,
   "id": "e1b35a29-c38e-4dae-8a88-7a5190045b71",
   "metadata": {},
   "outputs": [],
   "source": []
  },
  {
   "cell_type": "code",
   "execution_count": 13,
   "id": "f889bc1e-0226-429c-84a5-b008a35c17ae",
   "metadata": {},
   "outputs": [
    {
     "name": "stdout",
     "output_type": "stream",
     "text": [
      "the addition of 15 and 18 is =33\n"
     ]
    }
   ],
   "source": [
    "num5= 15\n",
    "num6= 18\n",
    "add= num5+num6\n",
    "print(f'the addition of {num5} and {num6} is ={add}')"
   ]
  },
  {
   "cell_type": "code",
   "execution_count": null,
   "id": "d6f3fab9-5d2f-498e-a56c-9fb02b3d669d",
   "metadata": {},
   "outputs": [],
   "source": []
  },
  {
   "cell_type": "markdown",
   "id": "28f72fbd-43c1-46c2-9d4c-62321cab8c49",
   "metadata": {},
   "source": [
    "## End statement"
   ]
  },
  {
   "cell_type": "code",
   "execution_count": 1,
   "id": "c3857110-772a-4ef4-b19f-903d8ef05861",
   "metadata": {},
   "outputs": [
    {
     "name": "stdout",
     "output_type": "stream",
     "text": [
      "Hello\n",
      "world\n"
     ]
    }
   ],
   "source": [
    "print(\"Hello\") #1st statement\n",
    "print(\"world\") #2nd statement"
   ]
  },
  {
   "cell_type": "raw",
   "id": "5f035a1c-50cb-4db3-acb9-d49ac7254e65",
   "metadata": {},
   "source": [
    "Here we will use end statement that joint line from end of one string to starting of other \n",
    "string "
   ]
  },
  {
   "cell_type": "code",
   "execution_count": 3,
   "id": "f6e9ae3d-bfbf-4b77-bfc0-e6bb32f376d7",
   "metadata": {},
   "outputs": [
    {
     "name": "stdout",
     "output_type": "stream",
     "text": [
      "Helloworld\n"
     ]
    }
   ],
   "source": [
    "print('Hello', end='')\n",
    "print('world')"
   ]
  },
  {
   "cell_type": "code",
   "execution_count": null,
   "id": "64954ea6-8634-425e-b37e-5571cd704c8c",
   "metadata": {},
   "outputs": [],
   "source": []
  },
  {
   "cell_type": "markdown",
   "id": "5038e283-d3de-418d-9420-45da4899c608",
   "metadata": {},
   "source": [
    "## seprator"
   ]
  },
  {
   "cell_type": "code",
   "execution_count": 4,
   "id": "fcc9c40b-5870-48a2-b5e7-a4cf92e829c7",
   "metadata": {},
   "outputs": [
    {
     "name": "stdout",
     "output_type": "stream",
     "text": [
      "hey---->hi---->how are you\n"
     ]
    }
   ],
   "source": [
    "print('hey','hi','how are you',sep='---->')"
   ]
  },
  {
   "cell_type": "code",
   "execution_count": 5,
   "id": "450bd899-d08c-46db-88ce-7da159b6beb2",
   "metadata": {},
   "outputs": [
    {
     "name": "stdout",
     "output_type": "stream",
     "text": [
      "hey&hi&how are you\n"
     ]
    }
   ],
   "source": [
    "print('hey','hi','how are you',sep='&')"
   ]
  },
  {
   "cell_type": "code",
   "execution_count": 6,
   "id": "4f56865a-3fcd-4cdc-86ed-605bfbfdf6e9",
   "metadata": {},
   "outputs": [
    {
     "name": "stdout",
     "output_type": "stream",
     "text": [
      "hey*hi*how are you\n"
     ]
    }
   ],
   "source": [
    "print('hey','hi','how are you',sep='*')"
   ]
  },
  {
   "cell_type": "code",
   "execution_count": 7,
   "id": "0c9e739d-8310-4327-bcd5-af0b5757e856",
   "metadata": {},
   "outputs": [
    {
     "name": "stdout",
     "output_type": "stream",
     "text": [
      "hey hi how are you\n"
     ]
    }
   ],
   "source": [
    "print('hey','hi','how are you',sep=' ')"
   ]
  },
  {
   "cell_type": "code",
   "execution_count": 8,
   "id": "4ea87b44-0be6-482b-a1cc-6b0658a04917",
   "metadata": {},
   "outputs": [
    {
     "name": "stdout",
     "output_type": "stream",
     "text": [
      "6 4 2 .\n"
     ]
    }
   ],
   "source": [
    "print(6,4,end=' ')\n",
    "print(2,'.',sep=' ')"
   ]
  },
  {
   "cell_type": "code",
   "execution_count": null,
   "id": "394ce740-a323-493e-9cab-c93369a7937c",
   "metadata": {},
   "outputs": [],
   "source": []
  }
 ],
 "metadata": {
  "kernelspec": {
   "display_name": "Python 3 (ipykernel)",
   "language": "python",
   "name": "python3"
  },
  "language_info": {
   "codemirror_mode": {
    "name": "ipython",
    "version": 3
   },
   "file_extension": ".py",
   "mimetype": "text/x-python",
   "name": "python",
   "nbconvert_exporter": "python",
   "pygments_lexer": "ipython3",
   "version": "3.13.5"
  }
 },
 "nbformat": 4,
 "nbformat_minor": 5
}
